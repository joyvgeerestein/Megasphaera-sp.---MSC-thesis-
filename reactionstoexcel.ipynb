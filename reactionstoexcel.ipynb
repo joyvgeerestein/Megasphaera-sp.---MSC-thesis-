{
 "cells": [
  {
   "cell_type": "code",
   "execution_count": null,
   "metadata": {},
   "outputs": [],
   "source": [
    "import pandas as pd\n",
    "reaction_names = [r.name for r in model.reactions]\n",
    "reaction_ids = [r.id for r in model.reactions]\n",
    "reaction_flux = [r.flux for r in model.reactions]\n",
    "reaction_RC = [r.reduced_cost for r in model.reactions]\n",
    "reactionList = {'Reaction ID': reaction_ids,\n",
    "                'Reaction Name': reaction_names,\n",
    "                'Reaction Flux': reaction_flux,\n",
    "                'Reaction Reduced Cost': reaction_RC,\n",
    "               }\n",
    "\n",
    "df = pd.DataFrame(reactionList, columns= ['Reaction ID','Reaction Name','Reaction Flux','Reaction Reduced Cost'])\n",
    "pd.set_option('display.max_rows', 500)\n",
    "df"
   ]
  }
 ],
 "metadata": {
  "language_info": {
   "name": "python"
  }
 },
 "nbformat": 4,
 "nbformat_minor": 2
}
