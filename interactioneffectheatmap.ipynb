{
 "cells": [
  {
   "cell_type": "code",
   "execution_count": null,
   "metadata": {},
   "outputs": [],
   "source": [
    "import pandas as pd\n",
    "import seaborn as sns\n",
    "import matplotlib.pyplot as plt\n",
    "\n",
    "# Read the Excel file\n",
    "df = pd.read_excel('interactioneffectWA3.xlsx')\n",
    "\n",
    "# Select only the numeric columns\n",
    "numeric_df = df.select_dtypes(include='number')\n",
    "\n",
    "# Define the red color map\n",
    "cmap = plt.cm.get_cmap('Reds')\n",
    "\n",
    "# Create the heatmap\n",
    "ax = sns.heatmap(numeric_df, vmin=0.0, vmax=0.5, cmap=cmap)\n",
    "\n",
    "# Set the x-axis on top\n",
    "ax.xaxis.tick_top()\n",
    "ax.xaxis.set_label_position('top')\n",
    "\n",
    "# Set the x-axis labels in vertical words\n",
    "ax.set_xticklabels(ax.get_xticklabels(), rotation=90)\n",
    "\n",
    "your_y_labels = ['Histidine', 'Methionine', 'Cysteine', 'Glutamate', 'Aspartate', 'Serine', 'Arginine', 'Threonine', 'Alanine', 'Glycine', 'Phenylalanine', 'Tyrosine', 'Leucine', 'Valine', 'Tryptophan', 'Lysine', 'Isoleucine', 'Proline', 'Asparagine', 'Ornithine', 'Glutamine', 'Glucose']\n",
    "\n",
    "# Set the y-axis labels\n",
    "ax.set_yticklabels(your_y_labels)\n",
    "\n",
    "# Add title\n",
    "ax.set_title(\"(+) acetate\")\n",
    "\n",
    "# Adjust the figure layout to include the entire heatmap\n",
    "plt.tight_layout()\n",
    "\n",
    "# Save the cropped heatmap as an image file\n",
    "plt.savefig('interactioneffectglucoseWA3.1.png')\n",
    "\n",
    "# Display the cropped heatmap\n",
    "plt.show()"
   ]
  }
 ],
 "metadata": {
  "kernelspec": {
   "display_name": "scriptie",
   "language": "python",
   "name": "python3"
  },
  "language_info": {
   "codemirror_mode": {
    "name": "ipython",
    "version": 3
   },
   "file_extension": ".py",
   "mimetype": "text/x-python",
   "name": "python",
   "nbconvert_exporter": "python",
   "pygments_lexer": "ipython3",
   "version": "3.11.5"
  }
 },
 "nbformat": 4,
 "nbformat_minor": 2
}
