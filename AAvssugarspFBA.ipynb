{
 "cells": [
  {
   "cell_type": "code",
   "execution_count": null,
   "metadata": {},
   "outputs": [],
   "source": [
    "import cobra"
   ]
  },
  {
   "cell_type": "code",
   "execution_count": null,
   "metadata": {},
   "outputs": [],
   "source": [
    "from pathlib import Path\n",
    "from cobra.io import load_json_model, save_json_model, read_sbml_model, write_sbml_model, load_matlab_model, save_matlab_model\n",
    "import logging"
   ]
  },
  {
   "cell_type": "code",
   "execution_count": null,
   "metadata": {},
   "outputs": [],
   "source": [
    "model = cobra.io.read_sbml_model('Megasphaera_sp_MJR8396C.xml')"
   ]
  },
  {
   "cell_type": "code",
   "execution_count": null,
   "metadata": {},
   "outputs": [],
   "source": [
    "solution = model.optimize()\n",
    "model.summary()"
   ]
  },
  {
   "cell_type": "code",
   "execution_count": null,
   "metadata": {},
   "outputs": [],
   "source": [
    "# all AA\n",
    "reactions_to_change = ['EX_cpd00119_e0', 'EX_cpd00060_e0', 'EX_cpd00084_e0', 'EX_cpd00023_e0', 'EX_cpd00041_e0', 'EX_cpd00054_e0', 'EX_cpd00051_e0', 'EX_cpd00161_e0', 'EX_cpd00035_e0', 'EX_cpd00033_e0', 'EX_cpd00066_e0', 'EX_cpd00069_e0', 'EX_cpd00107_e0', 'EX_cpd00156_e0', 'EX_cpd00065_e0', 'EX_cpd00039_e0', 'EX_cpd00322_e0', 'EX_cpd00129_e0', 'EX_cpd00132_e0']\n",
    "\n",
    "for reaction_id in reactions_to_change:\n",
    "    model.reactions.get_by_id(reaction_id).lower_bound = \n",
    "\n",
    "# all AA excluding essential AA\n",
    "reactions_to_change = ['EX_cpd00023_e0', 'EX_cpd00041_e0', 'EX_cpd00054_e0', 'EX_cpd00051_e0', 'EX_cpd00161_e0', 'EX_cpd00035_e0', 'EX_cpd00033_e0', 'EX_cpd00066_e0', 'EX_cpd00069_e0', 'EX_cpd00107_e0', 'EX_cpd00156_e0', 'EX_cpd00065_e0', 'EX_cpd00039_e0', 'EX_cpd00322_e0', 'EX_cpd00129_e0', 'EX_cpd00132_e0']\n",
    "\n",
    "for reaction_id in reactions_to_change:\n",
    "    model.reactions.get_by_id(reaction_id).lower_bound = \n",
    "\n",
    "#essential AA \n",
    "model.reactions.get_by_id('EX_cpd00119_e0').lower_bound = \n",
    "model.reactions.get_by_id('EX_cpd00060_e0').lower_bound = \n",
    "model.reactions.get_by_id('EX_cpd00084_e0').lower_bound = \n",
    "\n",
    "#acetate \n",
    "model.reactions.get_by_id('EX_cpd00029_e0').lower_bound =\n",
    "\n",
    "#extra sugars in exchange ractions: (all null lower bounds)\n",
    "# Xylose-e0 Exchange\n",
    "model.reactions.get_by_id('EX_cpd00154_e0').lower_bound = 0\n",
    "\n",
    "# D-Mannose-e0 Exchange\n",
    "model.reactions.get_by_id('EX_cpd00138_e0').lower_bound = 0\n",
    "\n",
    "# Melibiose-e0 Exchange\n",
    "model.reactions.get_by_id('EX_cpd03198_e0').lower_bound = 0\n",
    "\n",
    "# L-Arabinose-e0 Exchange\n",
    "model.reactions.get_by_id('EX_cpd00224_e0').lower_bound = 0\n",
    "\n",
    "# D-arabinose \n",
    "model.reactions.get_by_id('EX_cpd00185_e0').lower_bound = 0\n",
    "\n",
    "# Galactose-e0 Exchange\n",
    "model.reactions.get_by_id('EX_cpd00108_e0').lower_bound = 0\n",
    "\n",
    "# D-Mannose-e0 Exchange\n",
    "model.reactions.get_by_id('EX_cpd00138_e0').lower_bound = 0\n",
    "\n",
    "# D-Glucarate-e0 Exchange\n",
    "model.reactions.get_by_id('EX_cpd00609_e0').lower_bound = 0\n",
    "\n",
    "# Glycolate-e0 Exchange\n",
    "model.reactions.get_by_id('EX_cpd00139_e0').lower_bound = 0\n",
    "\n",
    "#galacturonate \n",
    "model.reactions.get_by_id('EX_cpd00280_e0').lower_bound = 0\n",
    "\n",
    "#galactonate \n",
    "model.reactions.get_by_id('EX_cpd00653_e0').lower_bound = 0\n",
    "\n",
    "#sugars in gut medium and also in the model: \n",
    "# D-Mannitol 0.1 \n",
    "model.reactions.get_by_id('EX_cpd00314_e0').lower_bound = 0\n",
    "\n",
    "# Sorbitol 0.1 \n",
    "model.reactions.get_by_id('EX_cpd00588_e0').lower_bound = 0\n",
    "\n",
    "# Xylitol 0.1 \n",
    "model.reactions.get_by_id('EX_cpd00306_e0').lower_bound = 0\n",
    "\n",
    "# Maltose 0.1\n",
    "model.reactions.get_by_id('EX_cpd00179_e0').lower_bound = 0\n",
    "\n",
    "# Sucrose 3\n",
    "model.reactions.get_by_id('EX_cpd00076_e0').lower_bound = 0\n",
    "\n",
    "# D-Fructose 1\n",
    "model.reactions.get_by_id('EX_cpd00082_e0').lower_bound = 0\n",
    "\n",
    "# D-Glucose 2\n",
    "model.reactions.get_by_id('EX_cpd00027_e0').lower_bound = 0\n",
    "\n",
    "# CELB 0\n",
    "model.reactions.get_by_id('EX_cpd00158_e0').lower_bound = 0\n",
    "\n",
    "# Compute pFBA solution\n",
    "solution = model.optimize()\n",
    "p_solution = model.slim_optimize()\n",
    "\n",
    "# Print model summary\n",
    "model.summary()"
   ]
  }
 ],
 "metadata": {
  "language_info": {
   "name": "python"
  }
 },
 "nbformat": 4,
 "nbformat_minor": 2
}
