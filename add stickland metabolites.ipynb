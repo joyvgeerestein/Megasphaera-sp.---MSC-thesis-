{
 "cells": [
  {
   "cell_type": "code",
   "execution_count": 1,
   "metadata": {},
   "outputs": [],
   "source": [
    "import cobra"
   ]
  },
  {
   "cell_type": "code",
   "execution_count": 2,
   "metadata": {},
   "outputs": [],
   "source": [
    "from pathlib import Path\n",
    "from cobra.io import load_json_model, save_json_model, read_sbml_model, write_sbml_model, load_matlab_model, save_matlab_model\n",
    "import logging"
   ]
  },
  {
   "cell_type": "code",
   "execution_count": 3,
   "metadata": {},
   "outputs": [],
   "source": [
    "from cobra import Model, Reaction, Metabolite"
   ]
  },
  {
   "cell_type": "code",
   "execution_count": 4,
   "metadata": {},
   "outputs": [],
   "source": [
    "model = cobra.io.read_sbml_model('Megasphaera_sp_MJR8396C.xml')"
   ]
  },
  {
   "cell_type": "code",
   "execution_count": 15,
   "metadata": {},
   "outputs": [],
   "source": [
    "# Create new metabolites\n",
    "Tryptamine = Metabolite('cpd00318_e0', name='Tryptamine', compartment='e')\n",
    "Indoleacetate = Metabolite('cpd00703_e0', name='Indoleacetate', compartment='e')\n",
    "Hydroxyphenylacetate = Metabolite('cpd00489_e0', name='Hydroxyphenylacetate', compartment='e')\n",
    "isobutyrate = Metabolite('cpd01711_e0', name='isobutyrate', compartment='e')\n",
    "hydroxyisobutyrate = Metabolite('cpd19043_e0', name='hydroxyisobutyrate', compartment='e')\n",
    "phenylpropionate = Metabolite('cpd03343_e0', name='phenylpropionate', compartment='e')\n",
    "Indole3propionate = Metabolite('cpd27289_e0', name='Indole3propionate', compartment='e')\n",
    "# Add the metabolite to the model\n",
    "model.add_metabolites(Tryptamine)\n",
    "model.add_metabolites(Indoleacetate)\n",
    "model.add_metabolites(Hydroxyphenylacetate)\n",
    "model.add_metabolites(isobutyrate)\n",
    "model.add_metabolites(hydroxyisobutyrate)\n",
    "model.add_metabolites(phenylpropionate)\n",
    "model.add_metabolites(Indole3propionate)"
   ]
  },
  {
   "cell_type": "code",
   "execution_count": null,
   "metadata": {},
   "outputs": [],
   "source": [
    "# add exchange reaction\n",
    "model.add_boundary(model.metabolites.get_by_id(\"cpd00318_e0\"), type=\"exchange\")\n",
    "model.add_boundary(model.metabolites.get_by_id(\"cpd00703_e0\"), type=\"exchange\")\n",
    "model.add_boundary(model.metabolites.get_by_id(\"cpd00489_e0\"), type=\"exchange\")\n",
    "model.add_boundary(model.metabolites.get_by_id(\"cpd01711_e0\"), type=\"exchange\")\n",
    "model.add_boundary(model.metabolites.get_by_id(\"cpd19043_e0\"), type=\"exchange\")\n",
    "model.add_boundary(model.metabolites.get_by_id(\"cpd03343_e0\"), type=\"exchange\")\n",
    "model.add_boundary(model.metabolites.get_by_id(\"cpd27289_e0\"), type=\"exchange\")"
   ]
  },
  {
   "cell_type": "code",
   "execution_count": 11,
   "metadata": {},
   "outputs": [],
   "source": [
    "# add new reaction\n",
    "reaction1 = Reaction('pseudo_Tryptamine_transport')\n",
    "reaction1.name = 'Tryptamine transport'\n",
    "reaction1.subsystem = ''\n",
    "reaction1.lower_bound = 0.  # This is the default\n",
    "reaction1.upper_bound = 1000.  # This is the default\n",
    "\n",
    "reaction2 = Reaction('pseudo_Indoleacetate_transport')\n",
    "reaction2.name = 'Indoleacetate transport'\n",
    "reaction2.subsystem = ''\n",
    "reaction2.lower_bound = 0.  # This is the default\n",
    "reaction2.upper_bound = 1000.  # This is the default\n",
    "\n",
    "reaction3 = Reaction('pseudo_Hydroxyphenylacetate_transport')\n",
    "reaction3.name = 'Hydroxyphenylacetate transport'\n",
    "reaction3.subsystem = ''\n",
    "reaction3.lower_bound = 0.  # This is the default\n",
    "reaction3.upper_bound = 1000.  # This is the default\n",
    "\n",
    "reaction4 = Reaction('pseudo_isobutyrate_transport')\n",
    "reaction4.name = 'isobutyrate transport'\n",
    "reaction4.subsystem = ''\n",
    "reaction4.lower_bound = 0.  # This is the default\n",
    "reaction4.upper_bound = 1000.  # This is the default\n",
    "\n",
    "reaction5 = Reaction('pseudo_hydroxyisobutyrate_transport')\n",
    "reaction5.name = 'hydroxyisobutyrate transport'\n",
    "reaction5.subsystem = ''\n",
    "reaction5.lower_bound = 0.  # This is the default\n",
    "reaction5.upper_bound = 1000.  # This is the default\n",
    "\n",
    "reaction6 = Reaction('pseudo_phenylpropionate_transport')\n",
    "reaction6.name = 'phenylpropionate transport'\n",
    "reaction6.subsystem = ''\n",
    "reaction6.lower_bound = 0.  # This is the default\n",
    "reaction6.upper_bound = 1000.  # This is the default\n",
    "\n",
    "reaction7 = Reaction('pseudo_Indole3propionate_transport')\n",
    "reaction7.name = 'Indole3propionate transport'\n",
    "reaction7.subsystem = ''\n",
    "reaction7.lower_bound = 0.  # This is the default\n",
    "reaction7.upper_bound = 1000.  # This is the default"
   ]
  },
  {
   "cell_type": "code",
   "execution_count": 18,
   "metadata": {},
   "outputs": [],
   "source": [
    "# add metabolites to the reaction\n",
    "#reaction1.add_metabolites({\n",
    "#    model.metabolites.get_by_id(\"cpd00318_c0\"): -1.0,\n",
    "#    model.metabolites.get_by_id(\"cpd00318_e0\"): 1.0,\n",
    "#})\n",
    "reaction2.add_metabolites({\n",
    "    model.metabolites.get_by_id(\"cpd00703_c0\"): -1.0,\n",
    "    model.metabolites.get_by_id(\"cpd00703_e0\"): 1.0,\n",
    "})\n",
    "\n",
    "reaction3.add_metabolites({\n",
    "    model.metabolites.get_by_id(\"cpd00489_c0\"): -1.0,\n",
    "    model.metabolites.get_by_id(\"cpd00489_e0\"): 1.0,\n",
    "})\n",
    "\n",
    "reaction4.add_metabolites({\n",
    "    model.metabolites.get_by_id(\"cpd01711_c0\"): -1.0,\n",
    "    model.metabolites.get_by_id(\"cpd01711_e0\"): 1.0,\n",
    "})\n",
    "\n",
    "reaction5.add_metabolites({\n",
    "    model.metabolites.get_by_id(\"cpd19043_c0\"): -1.0,\n",
    "    model.metabolites.get_by_id(\"cpd19043_e0\"): 1.0,\n",
    "})\n",
    "\n",
    "reaction6.add_metabolites({\n",
    "    model.metabolites.get_by_id(\"cpd03343_c0\"): -1.0,\n",
    "    model.metabolites.get_by_id(\"cpd03343_e0\"): 1.0,\n",
    "})\n",
    "\n",
    "reaction7.add_metabolites({\n",
    "    model.metabolites.get_by_id(\"cpd27289_c0\"): -1.0,\n",
    "    model.metabolites.get_by_id(\"cpd27289_e0\"): 1.0,\n",
    "})\n"
   ]
  },
  {
   "cell_type": "code",
   "execution_count": null,
   "metadata": {},
   "outputs": [],
   "source": [
    "print(f'{len(model.reactions)} reactions initially')\n",
    "print(f'{len(model.metabolites)} metabolites initially')\n",
    "print(f'{len(model.genes)} genes initially')"
   ]
  },
  {
   "cell_type": "code",
   "execution_count": null,
   "metadata": {},
   "outputs": [],
   "source": [
    "#add reaction to model \n",
    "model.add_reactions([reaction1, reaction2, reaction3, reaction4, reaction5, reaction6, reaction7]) \n",
    "# The objects have been added to the model\n",
    "print(f'{len(model.reactions)} reactions')\n",
    "print(f'{len(model.metabolites)} metabolites')\n",
    "print(f'{len(model.genes)} genes')"
   ]
  },
  {
   "cell_type": "code",
   "execution_count": 21,
   "metadata": {},
   "outputs": [],
   "source": [
    "from cobra.io import write_sbml_model\n",
    "\n",
    "write_sbml_model(model, \"SLMETABOLITESMegasphaera_sp_MJR8396C.xml\")"
   ]
  }
 ],
 "metadata": {
  "kernelspec": {
   "display_name": "scriptie",
   "language": "python",
   "name": "python3"
  },
  "language_info": {
   "codemirror_mode": {
    "name": "ipython",
    "version": 3
   },
   "file_extension": ".py",
   "mimetype": "text/x-python",
   "name": "python",
   "nbconvert_exporter": "python",
   "pygments_lexer": "ipython3",
   "version": "3.11.5"
  }
 },
 "nbformat": 4,
 "nbformat_minor": 2
}
