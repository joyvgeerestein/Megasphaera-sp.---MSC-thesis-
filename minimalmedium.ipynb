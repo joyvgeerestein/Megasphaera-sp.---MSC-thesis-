{
 "cells": [
  {
   "cell_type": "code",
   "execution_count": 1,
   "metadata": {},
   "outputs": [],
   "source": [
    "import cobra"
   ]
  },
  {
   "cell_type": "code",
   "execution_count": 2,
   "metadata": {},
   "outputs": [],
   "source": [
    "from pathlib import Path\n",
    "from cobra.io import load_json_model, save_json_model, read_sbml_model, write_sbml_model, load_matlab_model, save_matlab_model\n",
    "import logging"
   ]
  },
  {
   "cell_type": "code",
   "execution_count": 3,
   "metadata": {},
   "outputs": [],
   "source": [
    "model = cobra.io.read_sbml_model('Megasphaera_sp_MJR8396C.xml')"
   ]
  },
  {
   "cell_type": "code",
   "execution_count": 4,
   "metadata": {},
   "outputs": [
    {
     "name": "stderr",
     "output_type": "stream",
     "text": [
      "Could not identify an external compartment by name and choosing one with the most boundary reactions. That might be complete nonsense or change suddenly. Consider renaming your compartments using `Model.compartments` to fix this.\n",
      "/usr/local/Caskroom/miniconda/base/envs/scriptie/lib/python3.11/site-packages/cobra/medium/boundary_types.py:97: FutureWarning: Series.__getitem__ treating keys as positions is deprecated. In a future version, integer keys will always be treated as labels (consistent with DataFrame behavior). To access a value by position, use `ser.iloc[pos]`\n",
      "  return most[0]\n",
      "Could not identify an external compartment by name and choosing one with the most boundary reactions. That might be complete nonsense or change suddenly. Consider renaming your compartments using `Model.compartments` to fix this.\n",
      "/usr/local/Caskroom/miniconda/base/envs/scriptie/lib/python3.11/site-packages/cobra/medium/boundary_types.py:97: FutureWarning: Series.__getitem__ treating keys as positions is deprecated. In a future version, integer keys will always be treated as labels (consistent with DataFrame behavior). To access a value by position, use `ser.iloc[pos]`\n",
      "  return most[0]\n"
     ]
    },
    {
     "data": {
      "text/plain": [
       "EX_cpd00009_e0    1.120646\n",
       "EX_cpd00023_e0    9.000000\n",
       "EX_cpd00027_e0    2.000000\n",
       "EX_cpd00030_e0    0.008125\n",
       "EX_cpd00034_e0    0.008125\n",
       "EX_cpd00039_e0    0.362849\n",
       "EX_cpd00041_e0    4.000000\n",
       "EX_cpd00048_e0    0.008125\n",
       "EX_cpd00051_e0    2.000000\n",
       "EX_cpd00119_e0    0.100173\n",
       "EX_cpd00129_e0    0.233737\n",
       "EX_cpd00149_e0    0.008125\n",
       "EX_cpd00156_e0    0.447440\n",
       "EX_cpd00161_e0    2.000000\n",
       "EX_cpd00179_e0    0.100000\n",
       "EX_cpd10516_e0    0.008125\n",
       "EX_cpd00035_e0    3.000000\n",
       "EX_cpd00060_e0    1.000000\n",
       "EX_cpd00084_e0    0.100000\n",
       "EX_cpd00107_e0    0.569094\n",
       "EX_cpd00322_e0    0.399913\n",
       "EX_cpd00069_e0    0.145807\n",
       "EX_cpd00066_e0    0.195894\n",
       "EX_cpd00054_e0    3.000000\n",
       "EX_cpd00644_e0    0.008792\n",
       "EX_cpd00029_e0    1.000000\n",
       "EX_cpd00063_e0    0.008125\n",
       "EX_cpd00058_e0    0.008125\n",
       "EX_cpd10515_e0    0.016917\n",
       "EX_cpd00082_e0    1.000000\n",
       "EX_cpd00033_e0    3.000000\n",
       "EX_cpd00205_e0    0.008125\n",
       "EX_cpd00314_e0    0.100000\n",
       "EX_cpd00588_e0    0.100000\n",
       "EX_cpd00076_e0    3.000000\n",
       "EX_cpd00065_e0    0.060104\n",
       "EX_cpd00099_e0    0.008125\n",
       "EX_cpd01107_e0    0.092223\n",
       "EX_cpd01080_e0    0.092715\n",
       "EX_cpd00254_e0    0.008125\n",
       "EX_cpd00305_e0    0.004396\n",
       "EX_cpd00306_e0    0.100000\n",
       "EX_cpd00215_e0    0.004396\n",
       "EX_cpd00363_e0    0.100000\n",
       "EX_cpd00087_e0    0.013188\n",
       "EX_cpd00300_e0    4.000000\n",
       "dtype: float64"
      ]
     },
     "execution_count": 4,
     "metadata": {},
     "output_type": "execute_result"
    }
   ],
   "source": [
    "from cobra.medium import minimal_medium\n",
    "\n",
    "max_growth = model.slim_optimize()\n",
    "minimal_medium(model, max_growth)\n"
   ]
  },
  {
   "cell_type": "code",
   "execution_count": 5,
   "metadata": {},
   "outputs": [
    {
     "name": "stderr",
     "output_type": "stream",
     "text": [
      "Could not identify an external compartment by name and choosing one with the most boundary reactions. That might be complete nonsense or change suddenly. Consider renaming your compartments using `Model.compartments` to fix this.\n",
      "/usr/local/Caskroom/miniconda/base/envs/scriptie/lib/python3.11/site-packages/cobra/medium/boundary_types.py:97: FutureWarning: Series.__getitem__ treating keys as positions is deprecated. In a future version, integer keys will always be treated as labels (consistent with DataFrame behavior). To access a value by position, use `ser.iloc[pos]`\n",
      "  return most[0]\n",
      "Could not identify an external compartment by name and choosing one with the most boundary reactions. That might be complete nonsense or change suddenly. Consider renaming your compartments using `Model.compartments` to fix this.\n",
      "/usr/local/Caskroom/miniconda/base/envs/scriptie/lib/python3.11/site-packages/cobra/medium/boundary_types.py:97: FutureWarning: Series.__getitem__ treating keys as positions is deprecated. In a future version, integer keys will always be treated as labels (consistent with DataFrame behavior). To access a value by position, use `ser.iloc[pos]`\n",
      "  return most[0]\n"
     ]
    },
    {
     "data": {
      "text/plain": [
       "EX_cpd00009_e0    0.100607\n",
       "EX_cpd00030_e0    0.000729\n",
       "EX_cpd00034_e0    0.000729\n",
       "EX_cpd00048_e0    0.000729\n",
       "EX_cpd00119_e0    0.008993\n",
       "EX_cpd00149_e0    0.000729\n",
       "EX_cpd10516_e0    0.000729\n",
       "EX_cpd00060_e0    1.000000\n",
       "EX_cpd00084_e0    0.100000\n",
       "EX_cpd00063_e0    0.000729\n",
       "EX_cpd00058_e0    0.000729\n",
       "EX_cpd10515_e0    0.005784\n",
       "EX_cpd00205_e0    0.000729\n",
       "EX_cpd00076_e0    0.976925\n",
       "EX_cpd00099_e0    0.000729\n",
       "EX_cpd01080_e0    0.008324\n",
       "EX_cpd00254_e0    0.000729\n",
       "EX_cpd00305_e0    0.000395\n",
       "EX_cpd00215_e0    0.000395\n",
       "EX_cpd00300_e0    4.000000\n",
       "dtype: float64"
      ]
     },
     "execution_count": 5,
     "metadata": {},
     "output_type": "execute_result"
    }
   ],
   "source": [
    "# vary minimal medium over minimal growth \n",
    "minimal_medium(model, 0.1, minimize_components=True)"
   ]
  }
 ],
 "metadata": {
  "kernelspec": {
   "display_name": "scriptie",
   "language": "python",
   "name": "python3"
  },
  "language_info": {
   "codemirror_mode": {
    "name": "ipython",
    "version": 3
   },
   "file_extension": ".py",
   "mimetype": "text/x-python",
   "name": "python",
   "nbconvert_exporter": "python",
   "pygments_lexer": "ipython3",
   "version": "3.11.5"
  }
 },
 "nbformat": 4,
 "nbformat_minor": 2
}
