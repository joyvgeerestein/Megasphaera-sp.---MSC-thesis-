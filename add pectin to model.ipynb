{
 "cells": [
  {
   "cell_type": "code",
   "execution_count": 4,
   "metadata": {},
   "outputs": [],
   "source": [
    "import cobra"
   ]
  },
  {
   "cell_type": "code",
   "execution_count": 1,
   "metadata": {},
   "outputs": [],
   "source": [
    "from pathlib import Path\n",
    "from cobra.io import load_json_model, save_json_model, read_sbml_model, write_sbml_model, load_matlab_model, save_matlab_model\n",
    "import logging"
   ]
  },
  {
   "cell_type": "code",
   "execution_count": 2,
   "metadata": {},
   "outputs": [],
   "source": [
    "from cobra import Model, Reaction, Metabolite"
   ]
  },
  {
   "cell_type": "code",
   "execution_count": 6,
   "metadata": {},
   "outputs": [],
   "source": [
    "model = cobra.io.read_sbml_model('Megasphaera_sp_MJR8396C.xml')"
   ]
  },
  {
   "cell_type": "code",
   "execution_count": 7,
   "metadata": {},
   "outputs": [],
   "source": [
    "# Create a new metabolite\n",
    "Pectin = Metabolite('cpd2751_e0', name='Pectin', compartment='e')\n",
    "\n",
    "# Add the metabolite to the model\n",
    "model.add_metabolites(Pectin)\n"
   ]
  },
  {
   "cell_type": "code",
   "execution_count": 8,
   "metadata": {},
   "outputs": [
    {
     "data": {
      "text/html": [
       "\n",
       "        <table>\n",
       "            <tr>\n",
       "                <td><strong>Reaction identifier</strong></td><td>EX_cpd2751_e0</td>\n",
       "            </tr><tr>\n",
       "                <td><strong>Name</strong></td><td>Pectin exchange</td>\n",
       "            </tr><tr>\n",
       "                <td><strong>Memory address</strong></td>\n",
       "                <td>0x10be0f690</td>\n",
       "            </tr><tr>\n",
       "                <td><strong>Stoichiometry</strong></td>\n",
       "                <td>\n",
       "                    <p style='text-align:right'>cpd2751_e0 <=></p>\n",
       "                    <p style='text-align:right'>Pectin <=></p>\n",
       "                </td>\n",
       "            </tr><tr>\n",
       "                <td><strong>GPR</strong></td><td></td>\n",
       "            </tr><tr>\n",
       "                <td><strong>Lower bound</strong></td><td>-1000.0</td>\n",
       "            </tr><tr>\n",
       "                <td><strong>Upper bound</strong></td><td>1000.0</td>\n",
       "            </tr>\n",
       "        </table>\n",
       "        "
      ],
      "text/plain": [
       "<Reaction EX_cpd2751_e0 at 0x10be0f690>"
      ]
     },
     "execution_count": 8,
     "metadata": {},
     "output_type": "execute_result"
    }
   ],
   "source": [
    "model.add_boundary(model.metabolites.get_by_id(\"cpd2751_e0\"), type=\"exchange\")"
   ]
  },
  {
   "cell_type": "code",
   "execution_count": 24,
   "metadata": {},
   "outputs": [
    {
     "data": {
      "text/plain": [
       "[<Reaction EX_cpd00794_e0 at 0x12059a750>,\n",
       " <Reaction EX_cpd00009_e0 at 0x12059a710>,\n",
       " <Reaction EX_cpd00023_e0 at 0x12059aad0>,\n",
       " <Reaction EX_cpd00027_e0 at 0x12059b310>,\n",
       " <Reaction EX_cpd00028_e0 at 0x12059b690>,\n",
       " <Reaction EX_cpd00030_e0 at 0x12059ba50>,\n",
       " <Reaction EX_cpd00034_e0 at 0x12059bcd0>,\n",
       " <Reaction EX_cpd00039_e0 at 0x1205a0210>,\n",
       " <Reaction EX_cpd00041_e0 at 0x1205a0610>,\n",
       " <Reaction EX_cpd00048_e0 at 0x1205a0a10>,\n",
       " <Reaction EX_cpd00051_e0 at 0x1205a0ed0>,\n",
       " <Reaction EX_cpd00053_e0 at 0x1205a1290>,\n",
       " <Reaction EX_cpd00064_e0 at 0x1205a1750>,\n",
       " <Reaction EX_cpd00098_e0 at 0x1205a1c90>,\n",
       " <Reaction EX_cpd00118_e0 at 0x1205a2110>,\n",
       " <Reaction EX_cpd00119_e0 at 0x1205a2590>,\n",
       " <Reaction EX_cpd00129_e0 at 0x1205a29d0>,\n",
       " <Reaction EX_cpd00149_e0 at 0x1205a2e10>,\n",
       " <Reaction EX_cpd00154_e0 at 0x1205a2dd0>,\n",
       " <Reaction EX_cpd00156_e0 at 0x1205a3610>,\n",
       " <Reaction EX_cpd00161_e0 at 0x1205a3a50>,\n",
       " <Reaction EX_cpd00179_e0 at 0x1205a3e50>,\n",
       " <Reaction EX_cpd00224_e0 at 0x1205a8310>,\n",
       " <Reaction EX_cpd00244_e0 at 0x1205a8790>,\n",
       " <Reaction EX_cpd00264_e0 at 0x1205a8b50>,\n",
       " <Reaction EX_cpd00268_e0 at 0x1205a8fd0>,\n",
       " <Reaction EX_cpd00540_e0 at 0x1205a9450>,\n",
       " <Reaction EX_cpd10516_e0 at 0x1205a9910>,\n",
       " <Reaction EX_cpd00067_e0 at 0x1205a9dd0>,\n",
       " <Reaction EX_cpd00092_e0 at 0x1205aa210>,\n",
       " <Reaction EX_cpd00309_e0 at 0x1205aa610>,\n",
       " <Reaction EX_cpd00311_e0 at 0x1205aa5d0>,\n",
       " <Reaction EX_cpd00130_e0 at 0x1205aae10>,\n",
       " <Reaction EX_cpd00971_e0 at 0x1205ab290>,\n",
       " <Reaction EX_cpd00137_e0 at 0x1205ab6d0>,\n",
       " <Reaction EX_cpd00035_e0 at 0x1205abb50>,\n",
       " <Reaction EX_cpd00060_e0 at 0x1205abf90>,\n",
       " <Reaction EX_cpd00104_e0 at 0x1205b4490>,\n",
       " <Reaction EX_cpd00084_e0 at 0x1205b4890>,\n",
       " <Reaction EX_cpd00107_e0 at 0x1205b4d10>,\n",
       " <Reaction EX_cpd00322_e0 at 0x1205b51d0>,\n",
       " <Reaction EX_cpd00069_e0 at 0x1205b55d0>,\n",
       " <Reaction EX_cpd00066_e0 at 0x1205b5a50>,\n",
       " <Reaction EX_cpd00054_e0 at 0x1205b5f10>,\n",
       " <Reaction EX_cpd00644_e0 at 0x1205b6410>,\n",
       " <Reaction EX_cpd00013_e0 at 0x1205b68d0>,\n",
       " <Reaction EX_cpd00020_e0 at 0x1205b6e10>,\n",
       " <Reaction EX_cpd00139_e0 at 0x1205b7290>,\n",
       " <Reaction EX_cpd00029_e0 at 0x1205b76d0>,\n",
       " <Reaction EX_cpd00117_e0 at 0x1205b7ad0>,\n",
       " <Reaction EX_cpd04098_e0 at 0x1205b7e10>,\n",
       " <Reaction EX_cpd00132_e0 at 0x1205bc2d0>,\n",
       " <Reaction EX_cpd00063_e0 at 0x1205bc6d0>,\n",
       " <Reaction EX_cpd01012_e0 at 0x1205bcb50>,\n",
       " <Reaction EX_cpd00058_e0 at 0x1205bce90>,\n",
       " <Reaction EX_cpd10515_e0 at 0x1205bd290>,\n",
       " <Reaction EX_cpd00047_e0 at 0x1205bd6d0>,\n",
       " <Reaction EX_cpd00082_e0 at 0x1205bdbd0>,\n",
       " <Reaction EX_cpd00106_e0 at 0x1205be010>,\n",
       " <Reaction EX_cpd00281_e0 at 0x1205be490>,\n",
       " <Reaction EX_cpd00108_e0 at 0x1205be890>,\n",
       " <Reaction EX_cpd00276_e0 at 0x1205bed50>,\n",
       " <Reaction EX_cpd00222_e0 at 0x1205bf190>,\n",
       " <Reaction EX_cpd00609_e0 at 0x1205bf610>,\n",
       " <Reaction EX_cpd00100_e0 at 0x1205bf5d0>,\n",
       " <Reaction EX_cpd00033_e0 at 0x1205bfe90>,\n",
       " <Reaction EX_cpd00121_e0 at 0x1205c42d0>,\n",
       " <Reaction EX_cpd00205_e0 at 0x1205c4790>,\n",
       " <Reaction EX_cpd00208_e0 at 0x1205c4bd0>,\n",
       " <Reaction EX_cpd00159_e0 at 0x1205c5050>,\n",
       " <Reaction EX_cpd01262_e0 at 0x1205c5510>,\n",
       " <Reaction EX_cpd00138_e0 at 0x1205c5950>,\n",
       " <Reaction EX_cpd03198_e0 at 0x1205c5dd0>,\n",
       " <Reaction EX_cpd00314_e0 at 0x1205c6190>,\n",
       " <Reaction EX_cpd11574_e0 at 0x1205c6590>,\n",
       " <Reaction EX_cpd00141_e0 at 0x1205c6950>,\n",
       " <Reaction EX_cpd01132_e0 at 0x1205c6d10>,\n",
       " <Reaction EX_cpd00396_e0 at 0x1205c7190>,\n",
       " <Reaction EX_cpd00588_e0 at 0x1205c7550>,\n",
       " <Reaction EX_cpd00550_e0 at 0x1205c7910>,\n",
       " <Reaction EX_cpd00036_e0 at 0x1205c7d50>,\n",
       " <Reaction EX_cpd00076_e0 at 0x1205d41d0>,\n",
       " <Reaction EX_cpd00065_e0 at 0x1205d4590>,\n",
       " <Reaction EX_cpd00280_e0 at 0x1205d4a10>,\n",
       " <Reaction EX_cpd01217_e0 at 0x1205d4e90>,\n",
       " <Reaction EX_cpd00211_e0 at 0x1205d5290>,\n",
       " <Reaction EX_cpd00099_e0 at 0x1205d56d0>,\n",
       " <Reaction EX_cpd00277_e0 at 0x1205d5c10>,\n",
       " <Reaction EX_cpd00221_e0 at 0x1205d6010>,\n",
       " <Reaction EX_cpd01107_e0 at 0x1205d6490>,\n",
       " <Reaction EX_cpd01741_e0 at 0x1205d6890>,\n",
       " <Reaction EX_cpd03847_e0 at 0x1205d6c90>,\n",
       " <Reaction EX_cpd15298_e0 at 0x1205d7090>,\n",
       " <Reaction EX_cpd00214_e0 at 0x1205d74d0>,\n",
       " <Reaction EX_cpd15237_e0 at 0x1205d7910>,\n",
       " <Reaction EX_cpd01080_e0 at 0x1205d7cd0>,\n",
       " <Reaction EX_cpd15269_e0 at 0x1205dc0d0>,\n",
       " <Reaction EX_cpd01113_e0 at 0x1205dc4d0>,\n",
       " <Reaction EX_cpd03846_e0 at 0x1205dc950>,\n",
       " <Reaction EX_cpd00653_e0 at 0x1205dcd90>,\n",
       " <Reaction EX_cpd11640_e0 at 0x1205dd210>,\n",
       " <Reaction EX_cpd00531_e0 at 0x1205dd650>,\n",
       " <Reaction EX_cpd00573_e0 at 0x1205dda50>,\n",
       " <Reaction EX_cpd01399_e0 at 0x1205dde50>,\n",
       " <Reaction EX_cpd00254_e0 at 0x1205de2d0>,\n",
       " <Reaction EX_cpd00305_e0 at 0x1205de750>,\n",
       " <Reaction EX_cpd00017_e0 at 0x1205deb10>,\n",
       " <Reaction EX_cpd04097_e0 at 0x1205df010>,\n",
       " <Reaction EX_cpd00185_e0 at 0x1205df410>,\n",
       " <Reaction EX_cpd15494_e0 at 0x1205df7d0>,\n",
       " <Reaction EX_cpd11976_e0 at 0x1205dfb50>,\n",
       " <Reaction EX_cpd00153_e0 at 0x1205dffd0>,\n",
       " <Reaction EX_cpd00306_e0 at 0x1205f0490>,\n",
       " <Reaction EX_cpd00136_e0 at 0x1205f0890>,\n",
       " <Reaction EX_cpd00210_e0 at 0x1205f0cd0>,\n",
       " <Reaction EX_cpd00380_e0 at 0x1205f1110>,\n",
       " <Reaction EX_cpd00152_e0 at 0x1205f1550>,\n",
       " <Reaction EX_cpd00158_e0 at 0x1205f19d0>,\n",
       " <Reaction EX_cpd00215_e0 at 0x1205f1cd0>,\n",
       " <Reaction EX_cpd11451_e0 at 0x1205f2110>,\n",
       " <Reaction EX_cpd11606_e0 at 0x1205f24d0>,\n",
       " <Reaction EX_cpd17026_e0 at 0x1205f2850>,\n",
       " <Reaction EX_cpd17027_e0 at 0x1205f2c10>,\n",
       " <Reaction EX_cpd01133_e0 at 0x1205f2f90>,\n",
       " <Reaction EX_cpd02733_e0 at 0x1205f3390>,\n",
       " <Reaction EX_cpd01354_e0 at 0x1205f3790>,\n",
       " <Reaction EX_cpd03808_e0 at 0x1205f3c10>,\n",
       " <Reaction EX_cpd00393_e0 at 0x1205f3fd0>,\n",
       " <Reaction EX_cpd90008_e0 at 0x1205fc490>,\n",
       " <Reaction EX_cpd00001_e0 at 0x1205fc850>,\n",
       " <Reaction EX_cpd90005_e0 at 0x1205fcc90>,\n",
       " <Reaction EX_cpd90007_e0 at 0x1205fd050>,\n",
       " <Reaction EX_cpd90006_e0 at 0x1205fd3d0>,\n",
       " <Reaction EX_cpd90003_e0 at 0x1205fd750>,\n",
       " <Reaction EX_cpd90004_e0 at 0x1205fdb90>,\n",
       " <Reaction EX_cpd00526_e0 at 0x1205fe050>,\n",
       " <Reaction EX_cpd23431_e0 at 0x1205fe410>,\n",
       " <Reaction EX_cpd23430_e0 at 0x1205fe850>,\n",
       " <Reaction EX_cpd22614_e0 at 0x1205fec10>,\n",
       " <Reaction EX_cpd31356_e0 at 0x1205fef90>,\n",
       " <Reaction EX_cpd00011_e0 at 0x1205ff350>,\n",
       " <Reaction EX_cpd00007_e0 at 0x1205ff750>,\n",
       " <Reaction EX_cpd01981_e0 at 0x1205ffb50>,\n",
       " <Reaction EX_cpd00073_e0 at 0x1205fff90>,\n",
       " <Reaction EX_cpd01861_e0 at 0x120600450>,\n",
       " <Reaction EX_cpd00453_e0 at 0x120600850>,\n",
       " <Reaction EX_cpd00071_e0 at 0x120600c10>,\n",
       " <Reaction EX_cpd00150_e0 at 0x120601090>,\n",
       " <Reaction EX_cpd08021_e0 at 0x120601550>,\n",
       " <Reaction EX_cpd00450_e0 at 0x120601950>,\n",
       " <Reaction EX_cpd00363_e0 at 0x120601d50>,\n",
       " <Reaction EX_cpd00055_e0 at 0x120602150>,\n",
       " <Reaction EX_cpd00448_e0 at 0x120602610>,\n",
       " <Reaction EX_cpd00025_e0 at 0x1206029d0>,\n",
       " <Reaction EX_cpd00239_e0 at 0x120602e50>,\n",
       " <Reaction EX_cpd00359_e0 at 0x120603310>,\n",
       " <Reaction EX_cpd00659_e0 at 0x120603750>,\n",
       " <Reaction EX_cpd00418_e0 at 0x120603b50>,\n",
       " <Reaction EX_cpd00371_e0 at 0x120603f90>,\n",
       " <Reaction EX_cpd00811_e0 at 0x120610410>,\n",
       " <Reaction EX_cpd00324_e0 at 0x120610810>,\n",
       " <Reaction EX_cpd01024_e0 at 0x120610bd0>,\n",
       " <Reaction EX_cpd00204_e0 at 0x120610fd0>,\n",
       " <Reaction EX_cpd00116_e0 at 0x120611450>,\n",
       " <Reaction EX_cpd00528_e0 at 0x120611910>,\n",
       " <Reaction EX_cpd11632_e0 at 0x120611d50>,\n",
       " <Reaction EX_cpd03662_e0 at 0x120612150>,\n",
       " <Reaction EX_cpd00178_e0 at 0x120612590>,\n",
       " <Reaction EX_cpd01618_e0 at 0x120612990>,\n",
       " <Reaction DM_cpd01042_c0 at 0x120631810>,\n",
       " <Reaction EX_cpd00087_e0 at 0x120613f90>,\n",
       " <Reaction EX_cpd00300_e0 at 0x120613bd0>,\n",
       " <Reaction EX_cpd11416_c0 at 0x1206136d0>,\n",
       " <Reaction EX_cpd00164_e0 at 0x1206e3610>,\n",
       " <Reaction EX_cpd00105_e0 at 0x1206e3990>,\n",
       " <Reaction EX_cpd00003_e0 at 0x1206e3e90>,\n",
       " <Reaction EX_cpd2751_e0 at 0x10be0f690>]"
      ]
     },
     "execution_count": 24,
     "metadata": {},
     "output_type": "execute_result"
    }
   ],
   "source": [
    "# check if in the model\n",
    "model.boundary "
   ]
  },
  {
   "cell_type": "code",
   "execution_count": 25,
   "metadata": {},
   "outputs": [],
   "source": [
    "# add new reaction\n",
    "reaction = Reaction('rxn15321_e0')\n",
    "reaction.name = 'pectin degradation reaction (extracellular)'\n",
    "reaction.subsystem = 'rn00040 (Pentose and glucuronate interconversions); rn00500 (Starch and sucrose metabolism)'\n",
    "reaction.lower_bound = 0.  # This is the default\n",
    "reaction.upper_bound = 1000.  # This is the default"
   ]
  },
  {
   "cell_type": "code",
   "execution_count": 26,
   "metadata": {},
   "outputs": [
    {
     "data": {
      "text/plain": [
       "'390.0 cpd00001_e0 + cpd00067_e0 + cpd2751_e0 --> 195 cpd00116_e0 + 390.0 cpd00280_e0'"
      ]
     },
     "execution_count": 26,
     "metadata": {},
     "output_type": "execute_result"
    }
   ],
   "source": [
    "# add metabolites to the reaction\n",
    "# h[e] + 390 h2o[e] + pect[e] -> 390 galur[e] + 195 meoh[e]\n",
    "# cpd00067_e0 + 390 cpd00001_e0 + cpd2751_e0 -> 390 cpd00280_e0 + 195 cpd00116_e0\n",
    "reaction.add_metabolites({\n",
    "    model.metabolites.get_by_id(\"cpd00067_e0\"): -1.0,\n",
    "    model.metabolites.get_by_id(\"cpd00001_e0\"): -390.0,\n",
    "    model.metabolites.get_by_id(\"cpd2751_e0\"): -1.0,\n",
    "    model.metabolites.get_by_id(\"cpd00280_e0\"): 390.0,\n",
    "    model.metabolites.get_by_id(\"cpd00116_e0\"): 195,\n",
    "})\n",
    "\n",
    "\n",
    "\n",
    "reaction.reaction  # This gives a string representation of the reaction"
   ]
  },
  {
   "cell_type": "code",
   "execution_count": 27,
   "metadata": {},
   "outputs": [
    {
     "name": "stdout",
     "output_type": "stream",
     "text": [
      "1896 reactions initially\n",
      "1639 metabolites initially\n",
      "595 genes initially\n"
     ]
    }
   ],
   "source": [
    "print(f'{len(model.reactions)} reactions initially')\n",
    "print(f'{len(model.metabolites)} metabolites initially')\n",
    "print(f'{len(model.genes)} genes initially')"
   ]
  },
  {
   "cell_type": "code",
   "execution_count": 32,
   "metadata": {},
   "outputs": [
    {
     "name": "stdout",
     "output_type": "stream",
     "text": [
      "1897 reactions\n",
      "1639 metabolites\n",
      "595 genes\n"
     ]
    }
   ],
   "source": [
    "#add reaction to model \n",
    "model.add_reactions([reaction]) \n",
    "# The objects have been added to the model\n",
    "print(f'{len(model.reactions)} reactions')\n",
    "print(f'{len(model.metabolites)} metabolites')\n",
    "print(f'{len(model.genes)} genes')"
   ]
  },
  {
   "cell_type": "code",
   "execution_count": 33,
   "metadata": {},
   "outputs": [],
   "source": [
    "from cobra.io import write_sbml_model\n",
    "\n",
    "write_sbml_model(model, \"PECTINMegasphaera_sp_MJR8396C.xml\")\n"
   ]
  }
 ],
 "metadata": {
  "kernelspec": {
   "display_name": "scriptie",
   "language": "python",
   "name": "python3"
  },
  "language_info": {
   "codemirror_mode": {
    "name": "ipython",
    "version": 3
   },
   "file_extension": ".py",
   "mimetype": "text/x-python",
   "name": "python",
   "nbconvert_exporter": "python",
   "pygments_lexer": "ipython3",
   "version": "3.11.5"
  }
 },
 "nbformat": 4,
 "nbformat_minor": 2
}
