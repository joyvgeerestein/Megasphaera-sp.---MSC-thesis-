{
 "cells": [
  {
   "cell_type": "code",
   "execution_count": 4,
   "metadata": {},
   "outputs": [],
   "source": [
    "import cobra"
   ]
  },
  {
   "cell_type": "code",
   "execution_count": 1,
   "metadata": {},
   "outputs": [],
   "source": [
    "from pathlib import Path\n",
    "from cobra.io import load_json_model, save_json_model, read_sbml_model, write_sbml_model, load_matlab_model, save_matlab_model\n",
    "import logging"
   ]
  },
  {
   "cell_type": "code",
   "execution_count": 2,
   "metadata": {},
   "outputs": [],
   "source": [
    "from cobra import Model, Reaction, Metabolite"
   ]
  },
  {
   "cell_type": "code",
   "execution_count": 6,
   "metadata": {},
   "outputs": [],
   "source": [
    "model = cobra.io.read_sbml_model('Megasphaera_sp_MJR8396C.xml')"
   ]
  },
  {
   "cell_type": "code",
   "execution_count": 7,
   "metadata": {},
   "outputs": [],
   "source": [
    "# Create a new metabolite\n",
    "Pectin = Metabolite('cpd2751_e0', name='Pectin', compartment='e')\n",
    "\n",
    "# Add the metabolite to the model\n",
    "model.add_metabolites(Pectin)\n"
   ]
  },
  {
   "cell_type": "code",
   "execution_count": null,
   "metadata": {},
   "outputs": [],
   "source": [
    "model.add_boundary(model.metabolites.get_by_id(\"cpd2751_e0\"), type=\"exchange\")"
   ]
  },
  {
   "cell_type": "code",
   "execution_count": null,
   "metadata": {},
   "outputs": [],
   "source": [
    "# check if in the model\n",
    "model.boundary "
   ]
  },
  {
   "cell_type": "code",
   "execution_count": 25,
   "metadata": {},
   "outputs": [],
   "source": [
    "# add new reaction\n",
    "reaction = Reaction('rxn15321_e0')\n",
    "reaction.name = 'pectin degradation reaction (extracellular)'\n",
    "reaction.subsystem = 'rn00040 (Pentose and glucuronate interconversions); rn00500 (Starch and sucrose metabolism)'\n",
    "reaction.lower_bound = 0.  # This is the default\n",
    "reaction.upper_bound = 1000.  # This is the default"
   ]
  },
  {
   "cell_type": "code",
   "execution_count": null,
   "metadata": {},
   "outputs": [],
   "source": [
    "# add metabolites to the reaction\n",
    "# h[e] + 390 h2o[e] + pect[e] -> 390 galur[e] + 195 meoh[e]\n",
    "# cpd00067_e0 + 390 cpd00001_e0 + cpd2751_e0 -> 390 cpd00280_e0 + 195 cpd00116_e0\n",
    "reaction.add_metabolites({\n",
    "    model.metabolites.get_by_id(\"cpd00067_e0\"): -1.0,\n",
    "    model.metabolites.get_by_id(\"cpd00001_e0\"): -390.0,\n",
    "    model.metabolites.get_by_id(\"cpd2751_e0\"): -1.0,\n",
    "    model.metabolites.get_by_id(\"cpd00280_e0\"): 390.0,\n",
    "    model.metabolites.get_by_id(\"cpd00116_e0\"): 195,\n",
    "})\n",
    "\n",
    "\n",
    "\n",
    "reaction.reaction  # This gives a string representation of the reaction"
   ]
  },
  {
   "cell_type": "code",
   "execution_count": null,
   "metadata": {},
   "outputs": [],
   "source": [
    "print(f'{len(model.reactions)} reactions initially')\n",
    "print(f'{len(model.metabolites)} metabolites initially')\n",
    "print(f'{len(model.genes)} genes initially')"
   ]
  },
  {
   "cell_type": "code",
   "execution_count": null,
   "metadata": {},
   "outputs": [],
   "source": [
    "#add reaction to model \n",
    "model.add_reactions([reaction]) \n",
    "# The objects have been added to the model\n",
    "print(f'{len(model.reactions)} reactions')\n",
    "print(f'{len(model.metabolites)} metabolites')\n",
    "print(f'{len(model.genes)} genes')"
   ]
  },
  {
   "cell_type": "code",
   "execution_count": 33,
   "metadata": {},
   "outputs": [],
   "source": [
    "from cobra.io import write_sbml_model\n",
    "\n",
    "write_sbml_model(model, \"PECTINMegasphaera_sp_MJR8396C.xml\")\n"
   ]
  }
 ],
 "metadata": {
  "kernelspec": {
   "display_name": "scriptie",
   "language": "python",
   "name": "python3"
  },
  "language_info": {
   "codemirror_mode": {
    "name": "ipython",
    "version": 3
   },
   "file_extension": ".py",
   "mimetype": "text/x-python",
   "name": "python",
   "nbconvert_exporter": "python",
   "pygments_lexer": "ipython3",
   "version": "3.11.5"
  }
 },
 "nbformat": 4,
 "nbformat_minor": 2
}
